{
 "cells": [
  {
   "cell_type": "code",
   "execution_count": 1,
   "metadata": {},
   "outputs": [],
   "source": [
    "import numpy as np\n",
    "import matplotlib.pyplot as pp\n",
    "import seaborn\n",
    "import json\n",
    "import urllib.request\n",
    "import pandas as pd"
   ]
  },
  {
   "cell_type": "code",
   "execution_count": 2,
   "metadata": {},
   "outputs": [],
   "source": [
    "%matplotlib inline"
   ]
  },
  {
   "cell_type": "code",
   "execution_count": 3,
   "metadata": {},
   "outputs": [
    {
     "data": {
      "text/plain": [
       "('ETH_USD_HIST_DAYWISE.json', <http.client.HTTPMessage at 0x29886d4a550>)"
      ]
     },
     "execution_count": 3,
     "metadata": {},
     "output_type": "execute_result"
    }
   ],
   "source": [
    "urllib.request.urlretrieve('https://min-api.cryptocompare.com/data/histoday?fsym=BTC&tsym=USD&aggregate=1&allData=true','BTC_USD_HIST_DAYWISE.json')\n",
    "urllib.request.urlretrieve('https://min-api.cryptocompare.com/data/histoday?fsym=ETH&tsym=USD&aggregate=1&allData=true','ETH_USD_HIST_DAYWISE.json')"
   ]
  },
  {
   "cell_type": "code",
   "execution_count": 4,
   "metadata": {},
   "outputs": [],
   "source": [
    "eth_DF = pd.io.json.json_normalize(json.load(open('ETH_USD_HIST_DAYWISE.json','r')),record_path='Data')\n",
    "btc_DF = pd.io.json.json_normalize(json.load(open('BTC_USD_HIST_DAYWISE.json','r')),record_path='Data')"
   ]
  },
  {
   "cell_type": "code",
   "execution_count": 5,
   "metadata": {},
   "outputs": [
    {
     "data": {
      "text/html": [
       "<div>\n",
       "<style scoped>\n",
       "    .dataframe tbody tr th:only-of-type {\n",
       "        vertical-align: middle;\n",
       "    }\n",
       "\n",
       "    .dataframe tbody tr th {\n",
       "        vertical-align: top;\n",
       "    }\n",
       "\n",
       "    .dataframe thead th {\n",
       "        text-align: right;\n",
       "    }\n",
       "</style>\n",
       "<table border=\"1\" class=\"dataframe\">\n",
       "  <thead>\n",
       "    <tr style=\"text-align: right;\">\n",
       "      <th></th>\n",
       "      <th>close</th>\n",
       "      <th>high</th>\n",
       "      <th>low</th>\n",
       "      <th>open</th>\n",
       "      <th>time</th>\n",
       "      <th>volumefrom</th>\n",
       "      <th>volumeto</th>\n",
       "    </tr>\n",
       "  </thead>\n",
       "  <tbody>\n",
       "    <tr>\n",
       "      <th>0</th>\n",
       "      <td>3.00</td>\n",
       "      <td>3.0</td>\n",
       "      <td>0.6747</td>\n",
       "      <td>0.6747</td>\n",
       "      <td>1438905600</td>\n",
       "      <td>123.93</td>\n",
       "      <td>371.79</td>\n",
       "    </tr>\n",
       "    <tr>\n",
       "      <th>1</th>\n",
       "      <td>1.20</td>\n",
       "      <td>3.0</td>\n",
       "      <td>0.1500</td>\n",
       "      <td>3.0000</td>\n",
       "      <td>1438992000</td>\n",
       "      <td>2119.43</td>\n",
       "      <td>1438.16</td>\n",
       "    </tr>\n",
       "    <tr>\n",
       "      <th>2</th>\n",
       "      <td>1.20</td>\n",
       "      <td>1.2</td>\n",
       "      <td>1.2000</td>\n",
       "      <td>1.2000</td>\n",
       "      <td>1439078400</td>\n",
       "      <td>0.00</td>\n",
       "      <td>0.00</td>\n",
       "    </tr>\n",
       "    <tr>\n",
       "      <th>3</th>\n",
       "      <td>1.20</td>\n",
       "      <td>1.2</td>\n",
       "      <td>1.2000</td>\n",
       "      <td>1.2000</td>\n",
       "      <td>1439164800</td>\n",
       "      <td>0.00</td>\n",
       "      <td>0.00</td>\n",
       "    </tr>\n",
       "    <tr>\n",
       "      <th>4</th>\n",
       "      <td>0.99</td>\n",
       "      <td>1.2</td>\n",
       "      <td>0.6504</td>\n",
       "      <td>1.2000</td>\n",
       "      <td>1439251200</td>\n",
       "      <td>9486.09</td>\n",
       "      <td>7419.73</td>\n",
       "    </tr>\n",
       "  </tbody>\n",
       "</table>\n",
       "</div>"
      ],
      "text/plain": [
       "   close  high     low    open        time  volumefrom  volumeto\n",
       "0   3.00   3.0  0.6747  0.6747  1438905600      123.93    371.79\n",
       "1   1.20   3.0  0.1500  3.0000  1438992000     2119.43   1438.16\n",
       "2   1.20   1.2  1.2000  1.2000  1439078400        0.00      0.00\n",
       "3   1.20   1.2  1.2000  1.2000  1439164800        0.00      0.00\n",
       "4   0.99   1.2  0.6504  1.2000  1439251200     9486.09   7419.73"
      ]
     },
     "execution_count": 5,
     "metadata": {},
     "output_type": "execute_result"
    }
   ],
   "source": [
    "eth_DF.head()"
   ]
  },
  {
   "cell_type": "code",
   "execution_count": 6,
   "metadata": {},
   "outputs": [
    {
     "data": {
      "text/html": [
       "<div>\n",
       "<style scoped>\n",
       "    .dataframe tbody tr th:only-of-type {\n",
       "        vertical-align: middle;\n",
       "    }\n",
       "\n",
       "    .dataframe tbody tr th {\n",
       "        vertical-align: top;\n",
       "    }\n",
       "\n",
       "    .dataframe thead th {\n",
       "        text-align: right;\n",
       "    }\n",
       "</style>\n",
       "<table border=\"1\" class=\"dataframe\">\n",
       "  <thead>\n",
       "    <tr style=\"text-align: right;\">\n",
       "      <th></th>\n",
       "      <th>close</th>\n",
       "      <th>high</th>\n",
       "      <th>low</th>\n",
       "      <th>open</th>\n",
       "      <th>time</th>\n",
       "      <th>volumefrom</th>\n",
       "      <th>volumeto</th>\n",
       "    </tr>\n",
       "  </thead>\n",
       "  <tbody>\n",
       "    <tr>\n",
       "      <th>0</th>\n",
       "      <td>0.04951</td>\n",
       "      <td>0.04951</td>\n",
       "      <td>0.04951</td>\n",
       "      <td>0.04951</td>\n",
       "      <td>1279324800</td>\n",
       "      <td>20.00</td>\n",
       "      <td>0.9902</td>\n",
       "    </tr>\n",
       "    <tr>\n",
       "      <th>1</th>\n",
       "      <td>0.08584</td>\n",
       "      <td>0.08585</td>\n",
       "      <td>0.05941</td>\n",
       "      <td>0.04951</td>\n",
       "      <td>1279411200</td>\n",
       "      <td>75.01</td>\n",
       "      <td>5.0900</td>\n",
       "    </tr>\n",
       "    <tr>\n",
       "      <th>2</th>\n",
       "      <td>0.08080</td>\n",
       "      <td>0.09307</td>\n",
       "      <td>0.07723</td>\n",
       "      <td>0.08584</td>\n",
       "      <td>1279497600</td>\n",
       "      <td>574.00</td>\n",
       "      <td>49.6600</td>\n",
       "    </tr>\n",
       "    <tr>\n",
       "      <th>3</th>\n",
       "      <td>0.07474</td>\n",
       "      <td>0.08181</td>\n",
       "      <td>0.07426</td>\n",
       "      <td>0.08080</td>\n",
       "      <td>1279584000</td>\n",
       "      <td>262.00</td>\n",
       "      <td>20.5900</td>\n",
       "    </tr>\n",
       "    <tr>\n",
       "      <th>4</th>\n",
       "      <td>0.07921</td>\n",
       "      <td>0.07921</td>\n",
       "      <td>0.06634</td>\n",
       "      <td>0.07474</td>\n",
       "      <td>1279670400</td>\n",
       "      <td>575.00</td>\n",
       "      <td>42.2600</td>\n",
       "    </tr>\n",
       "  </tbody>\n",
       "</table>\n",
       "</div>"
      ],
      "text/plain": [
       "     close     high      low     open        time  volumefrom  volumeto\n",
       "0  0.04951  0.04951  0.04951  0.04951  1279324800       20.00    0.9902\n",
       "1  0.08584  0.08585  0.05941  0.04951  1279411200       75.01    5.0900\n",
       "2  0.08080  0.09307  0.07723  0.08584  1279497600      574.00   49.6600\n",
       "3  0.07474  0.08181  0.07426  0.08080  1279584000      262.00   20.5900\n",
       "4  0.07921  0.07921  0.06634  0.07474  1279670400      575.00   42.2600"
      ]
     },
     "execution_count": 6,
     "metadata": {},
     "output_type": "execute_result"
    }
   ],
   "source": [
    "btc_DF.head()"
   ]
  },
  {
   "cell_type": "code",
   "execution_count": 7,
   "metadata": {},
   "outputs": [],
   "source": [
    "btc_DF['time'] = pd.to_datetime(btc_DF['time'],unit='s')\n",
    "eth_DF['time'] = pd.to_datetime(eth_DF['time'],unit='s')"
   ]
  },
  {
   "cell_type": "code",
   "execution_count": 11,
   "metadata": {},
   "outputs": [
    {
     "data": {
      "text/html": [
       "<div>\n",
       "<style scoped>\n",
       "    .dataframe tbody tr th:only-of-type {\n",
       "        vertical-align: middle;\n",
       "    }\n",
       "\n",
       "    .dataframe tbody tr th {\n",
       "        vertical-align: top;\n",
       "    }\n",
       "\n",
       "    .dataframe thead th {\n",
       "        text-align: right;\n",
       "    }\n",
       "</style>\n",
       "<table border=\"1\" class=\"dataframe\">\n",
       "  <thead>\n",
       "    <tr style=\"text-align: right;\">\n",
       "      <th></th>\n",
       "      <th>close</th>\n",
       "      <th>high</th>\n",
       "      <th>low</th>\n",
       "      <th>open</th>\n",
       "      <th>time</th>\n",
       "      <th>volumefrom</th>\n",
       "      <th>volumeto</th>\n",
       "    </tr>\n",
       "  </thead>\n",
       "  <tbody>\n",
       "    <tr>\n",
       "      <th>957</th>\n",
       "      <td>559.91</td>\n",
       "      <td>590.20</td>\n",
       "      <td>545.48</td>\n",
       "      <td>557.57</td>\n",
       "      <td>2018-03-21</td>\n",
       "      <td>488509.24</td>\n",
       "      <td>2.777140e+08</td>\n",
       "    </tr>\n",
       "    <tr>\n",
       "      <th>958</th>\n",
       "      <td>539.89</td>\n",
       "      <td>578.01</td>\n",
       "      <td>516.22</td>\n",
       "      <td>559.91</td>\n",
       "      <td>2018-03-22</td>\n",
       "      <td>431953.84</td>\n",
       "      <td>2.339859e+08</td>\n",
       "    </tr>\n",
       "    <tr>\n",
       "      <th>959</th>\n",
       "      <td>543.83</td>\n",
       "      <td>543.84</td>\n",
       "      <td>506.79</td>\n",
       "      <td>539.89</td>\n",
       "      <td>2018-03-23</td>\n",
       "      <td>432407.55</td>\n",
       "      <td>2.252001e+08</td>\n",
       "    </tr>\n",
       "    <tr>\n",
       "      <th>960</th>\n",
       "      <td>520.16</td>\n",
       "      <td>546.01</td>\n",
       "      <td>519.51</td>\n",
       "      <td>543.84</td>\n",
       "      <td>2018-03-24</td>\n",
       "      <td>241529.67</td>\n",
       "      <td>1.293504e+08</td>\n",
       "    </tr>\n",
       "    <tr>\n",
       "      <th>961</th>\n",
       "      <td>519.09</td>\n",
       "      <td>522.88</td>\n",
       "      <td>516.94</td>\n",
       "      <td>520.17</td>\n",
       "      <td>2018-03-25</td>\n",
       "      <td>16655.61</td>\n",
       "      <td>8.658201e+06</td>\n",
       "    </tr>\n",
       "  </tbody>\n",
       "</table>\n",
       "</div>"
      ],
      "text/plain": [
       "      close    high     low    open       time  volumefrom      volumeto\n",
       "957  559.91  590.20  545.48  557.57 2018-03-21   488509.24  2.777140e+08\n",
       "958  539.89  578.01  516.22  559.91 2018-03-22   431953.84  2.339859e+08\n",
       "959  543.83  543.84  506.79  539.89 2018-03-23   432407.55  2.252001e+08\n",
       "960  520.16  546.01  519.51  543.84 2018-03-24   241529.67  1.293504e+08\n",
       "961  519.09  522.88  516.94  520.17 2018-03-25    16655.61  8.658201e+06"
      ]
     },
     "execution_count": 11,
     "metadata": {},
     "output_type": "execute_result"
    }
   ],
   "source": [
    "eth_DF.tail()    "
   ]
  },
  {
   "cell_type": "code",
   "execution_count": 12,
   "metadata": {},
   "outputs": [
    {
     "data": {
      "text/html": [
       "<div>\n",
       "<style scoped>\n",
       "    .dataframe tbody tr th:only-of-type {\n",
       "        vertical-align: middle;\n",
       "    }\n",
       "\n",
       "    .dataframe tbody tr th {\n",
       "        vertical-align: top;\n",
       "    }\n",
       "\n",
       "    .dataframe thead th {\n",
       "        text-align: right;\n",
       "    }\n",
       "</style>\n",
       "<table border=\"1\" class=\"dataframe\">\n",
       "  <thead>\n",
       "    <tr style=\"text-align: right;\">\n",
       "      <th></th>\n",
       "      <th>close</th>\n",
       "      <th>high</th>\n",
       "      <th>low</th>\n",
       "      <th>open</th>\n",
       "      <th>time</th>\n",
       "      <th>volumefrom</th>\n",
       "      <th>volumeto</th>\n",
       "    </tr>\n",
       "  </thead>\n",
       "  <tbody>\n",
       "    <tr>\n",
       "      <th>2804</th>\n",
       "      <td>8911.35</td>\n",
       "      <td>9184.51</td>\n",
       "      <td>8778.69</td>\n",
       "      <td>8920.53</td>\n",
       "      <td>2018-03-21</td>\n",
       "      <td>109985.22</td>\n",
       "      <td>9.913764e+08</td>\n",
       "    </tr>\n",
       "    <tr>\n",
       "      <th>2805</th>\n",
       "      <td>8724.98</td>\n",
       "      <td>9107.00</td>\n",
       "      <td>8500.88</td>\n",
       "      <td>8911.37</td>\n",
       "      <td>2018-03-22</td>\n",
       "      <td>116522.98</td>\n",
       "      <td>1.023287e+09</td>\n",
       "    </tr>\n",
       "    <tr>\n",
       "      <th>2806</th>\n",
       "      <td>8934.80</td>\n",
       "      <td>8935.88</td>\n",
       "      <td>8307.58</td>\n",
       "      <td>8724.98</td>\n",
       "      <td>2018-03-23</td>\n",
       "      <td>109649.39</td>\n",
       "      <td>9.399973e+08</td>\n",
       "    </tr>\n",
       "    <tr>\n",
       "      <th>2807</th>\n",
       "      <td>8548.06</td>\n",
       "      <td>9036.23</td>\n",
       "      <td>8515.53</td>\n",
       "      <td>8935.51</td>\n",
       "      <td>2018-03-24</td>\n",
       "      <td>93296.24</td>\n",
       "      <td>8.276632e+08</td>\n",
       "    </tr>\n",
       "    <tr>\n",
       "      <th>2808</th>\n",
       "      <td>8556.31</td>\n",
       "      <td>8598.82</td>\n",
       "      <td>8505.39</td>\n",
       "      <td>8548.39</td>\n",
       "      <td>2018-03-25</td>\n",
       "      <td>6433.53</td>\n",
       "      <td>5.518213e+07</td>\n",
       "    </tr>\n",
       "  </tbody>\n",
       "</table>\n",
       "</div>"
      ],
      "text/plain": [
       "        close     high      low     open       time  volumefrom      volumeto\n",
       "2804  8911.35  9184.51  8778.69  8920.53 2018-03-21   109985.22  9.913764e+08\n",
       "2805  8724.98  9107.00  8500.88  8911.37 2018-03-22   116522.98  1.023287e+09\n",
       "2806  8934.80  8935.88  8307.58  8724.98 2018-03-23   109649.39  9.399973e+08\n",
       "2807  8548.06  9036.23  8515.53  8935.51 2018-03-24    93296.24  8.276632e+08\n",
       "2808  8556.31  8598.82  8505.39  8548.39 2018-03-25     6433.53  5.518213e+07"
      ]
     },
     "execution_count": 12,
     "metadata": {},
     "output_type": "execute_result"
    }
   ],
   "source": [
    "btc_DF.tail()"
   ]
  },
  {
   "cell_type": "code",
   "execution_count": 57,
   "metadata": {},
   "outputs": [],
   "source": [
    "is_timeFrameBTC = ((btc_DF.time >= '2017-01-01') & (btc_DF.time <= '2017-12-31'))\n",
    "is_timeFrameETH = ((eth_DF.time >= '2017-01-01') & (eth_DF.time <= '2017-12-31'))\n",
    "\n",
    "currencies = ['BitCoin', 'Ethereum']"
   ]
  },
  {
   "cell_type": "code",
   "execution_count": 69,
   "metadata": {},
   "outputs": [
    {
     "data": {
      "image/png": "[encoded data removed]",
      "text/plain": [
       "<matplotlib.figure.Figure at 0x2988e0fffd0>"
      ]
     },
     "metadata": {},
     "output_type": "display_data"
    }
   ],
   "source": [
    "palette = seaborn.color_palette()\n",
    "pp.figure(figsize=(15,5))\n",
    "pp.stackplot(btc_DF[is_timeFrameBTC]['time'].tolist(),\n",
    "             btc_DF[is_timeFrameBTC]['close'].tolist(),\n",
    "             eth_DF[is_timeFrameETH]['close'].tolist())\n",
    "\n",
    "for i,name in enumerate(currencies):\n",
    "    pp.text('2017-01', 8000 + 1000*i, name, color=palette[i])\n"
   ]
  },
  {
   "cell_type": "code",
   "execution_count": null,
   "metadata": {},
   "outputs": [],
   "source": []
  },
  {
   "cell_type": "code",
   "execution_count": null,
   "metadata": {},
   "outputs": [],
   "source": []
  }
 ],
 "metadata": {
  "kernelspec": {
   "display_name": "Python 3",
   "language": "python",
   "name": "python3"
  },
  "language_info": {
   "codemirror_mode": {
    "name": "ipython",
    "version": 3
   },
   "file_extension": ".py",
   "mimetype": "text/x-python",
   "name": "python",
   "nbconvert_exporter": "python",
   "pygments_lexer": "ipython3",
   "version": "3.6.4"
  }
 },
 "nbformat": 4,
 "nbformat_minor": 2
}
